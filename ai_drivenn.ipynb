{
 "cells": [
  {
   "cell_type": "code",
   "execution_count": 1,
   "metadata": {},
   "outputs": [
    {
     "name": "stdout",
     "output_type": "stream",
     "text": [
      "Model Accuracy: 0.0\n",
      "Reminder: User is likely to miss a dose. Send reminder.\n"
     ]
    },
    {
     "name": "stderr",
     "output_type": "stream",
     "text": [
      "c:\\Users\\divya\\anaconda3\\Lib\\site-packages\\sklearn\\base.py:493: UserWarning: X does not have valid feature names, but DecisionTreeClassifier was fitted with feature names\n",
      "  warnings.warn(\n"
     ]
    }
   ],
   "source": [
    "import pandas as pd\n",
    "from sklearn.model_selection import train_test_split\n",
    "from sklearn.tree import DecisionTreeClassifier\n",
    "from sklearn.metrics import accuracy_score\n",
    "import numpy as np\n",
    "\n",
    "# Sample dataset: user behavior data\n",
    "# Columns: ['age', 'medication_intake_frequency', 'previous_missed_doses', 'time_since_last_dose']\n",
    "# 'target' is whether they missed a dose (1) or not (0)\n",
    "\n",
    "data = {\n",
    "    'age': [70, 65, 80, 60, 75, 50],\n",
    "    'medication_intake_frequency': [1, 2, 1, 3, 2, 1],  # frequency per day\n",
    "    'previous_missed_doses': [0, 2, 1, 0, 3, 0],\n",
    "    'time_since_last_dose': [6, 10, 12, 3, 15, 4],\n",
    "    'target': [0, 1, 1, 0, 1, 0]  # Target: 0 for no missed dose, 1 for missed dose\n",
    "}\n",
    "\n",
    "df = pd.DataFrame(data)\n",
    "\n",
    "# Prepare the features (X) and target (y)\n",
    "X = df[['age', 'medication_intake_frequency', 'previous_missed_doses', 'time_since_last_dose']]\n",
    "y = df['target']\n",
    "\n",
    "# Split the data into training and testing sets\n",
    "X_train, X_test, y_train, y_test = train_test_split(X, y, test_size=0.3, random_state=42)\n",
    "\n",
    "# Train the model (Decision Tree for simplicity)\n",
    "model = DecisionTreeClassifier(random_state=42)\n",
    "model.fit(X_train, y_train)\n",
    "\n",
    "# Test the model\n",
    "y_pred = model.predict(X_test)\n",
    "print(\"Model Accuracy:\", accuracy_score(y_test, y_pred))\n",
    "\n",
    "# Predict if a user is likely to miss a dose\n",
    "def predict_missed_dose(user_data):\n",
    "    prediction = model.predict([user_data])\n",
    "    if prediction == 1:\n",
    "        return \"Reminder: User is likely to miss a dose. Send reminder.\"\n",
    "    else:\n",
    "        return \"No action needed.\"\n",
    "\n",
    "# Example user data (age=70, frequency=1, previous missed doses=2, time since last dose=8)\n",
    "user_data = [70, 1, 2, 8]\n",
    "print(predict_missed_dose(user_data))\n"
   ]
  }
 ],
 "metadata": {
  "kernelspec": {
   "display_name": "base",
   "language": "python",
   "name": "python3"
  },
  "language_info": {
   "codemirror_mode": {
    "name": "ipython",
    "version": 3
   },
   "file_extension": ".py",
   "mimetype": "text/x-python",
   "name": "python",
   "nbconvert_exporter": "python",
   "pygments_lexer": "ipython3",
   "version": "3.12.4"
  }
 },
 "nbformat": 4,
 "nbformat_minor": 2
}
